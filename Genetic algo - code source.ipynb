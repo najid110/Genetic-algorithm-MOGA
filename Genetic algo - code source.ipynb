{
 "cells": [
  {
   "cell_type": "markdown",
   "metadata": {},
   "source": [
    "##### hypothèses:\n",
    "- Il n'y a pas de délai ni de fenêtre temporelle pour nos navires aux endroits visés.\n",
    "- La date d'échéance, la durée du service et l'heure de disponibilité sont ignorées.\n",
    "- Les navires partent toujours du dépôt et livre les marchandises."
   ]
  },
  {
   "cell_type": "code",
   "execution_count": 32,
   "metadata": {},
   "outputs": [],
   "source": [
    "import numpy as np\n",
    "import random\n",
    "from deap import base, creator, tools, algorithms, benchmarks\n",
    "from deap.benchmarks.tools import diversity, convergence, hypervolume\n",
    "import matplotlib.pyplot as plt"
   ]
  },
  {
   "cell_type": "code",
   "execution_count": 33,
   "metadata": {},
   "outputs": [],
   "source": [
    "def initialize_map(p_inf, N):\n",
    "    # create the map that we are trying to navigate.  I will do this randomly.\n",
    "    # This will be of the form of a adjacency matrix... non symetrical\n",
    "    \n",
    "    # The initialization needs some tuning parameters.  One is the proportion of 0's in the final result\n",
    "    \n",
    "    the_map = np.zeros((N,N))\n",
    "    \n",
    "    for i in range(0, N):\n",
    "        for j in range(0, N):\n",
    "            if random.random() > p_inf:\n",
    "                the_map[i][j] = round(random.uniform(0,50),2)\n",
    "            else:\n",
    "                the_map[i][j] = np.Inf\n",
    "\n",
    "    return the_map"
   ]
  },
  {
   "cell_type": "code",
   "execution_count": 34,
   "metadata": {},
   "outputs": [],
   "source": [
    "class Navire:\n",
    "    def __init__(self, name, tonnage, coute, price):\n",
    "        self.name = name\n",
    "        self.tonnage = tonnage #tonnage en tonne\n",
    "        self.coute = coute # coute en $ par jour\n",
    "        self.price = price # le prix pour louer le navire\n"
   ]
  },
  {
   "cell_type": "code",
   "execution_count": 35,
   "metadata": {},
   "outputs": [],
   "source": [
    "navires = [Navire(\"A\", 27, 13.2, 1000),\n",
    "           Navire(\"B\", 32, 12.5, 1200),\n",
    "           Navire(\"C\", 48, 10.8, 1500),\n",
    "           Navire(\"D\", 60, 9.2, 1900)]"
   ]
  },
  {
   "cell_type": "code",
   "execution_count": 36,
   "metadata": {},
   "outputs": [],
   "source": [
    "def distribuer_poids(commande, list_navire):\n",
    "    genome_poids = [0, 0, 0, 0]\n",
    "    available_indice = [i for i in range(len(list_navire))]\n",
    "    checked_indice = []\n",
    "    reste = commande\n",
    "    \n",
    "    for i in range(len(list_navire)):\n",
    "        p = random.choice(available_indice)\n",
    "        if p not in checked_indice:\n",
    "            if list_navire[p] != 0:\n",
    "                poids_max = list_navire[p]*navires[p].tonnage\n",
    "                if poids_max < reste:\n",
    "                    genome_poids[p] = list_navire[p]*navires[p].tonnage\n",
    "                    reste = reste - genome_poids[p]\n",
    "                else:\n",
    "                    genome_poids[p] = reste\n",
    "                    reste = reste - genome_poids[p]\n",
    "            checked_indice.append(p)\n",
    "            available_indice.pop(available_indice.index(p))\n",
    "            \n",
    "    return genome_poids"
   ]
  },
  {
   "cell_type": "code",
   "execution_count": 37,
   "metadata": {},
   "outputs": [],
   "source": [
    "def create_member(tonnage, depart, arrivee, cities):\n",
    "    genome_road = []\n",
    "    genome_navire = [0 for _ in range(len(navires))]\n",
    "    genome_quantity = []\n",
    "    \n",
    "    #choix de navire\n",
    "    nombre_max_navire = int(tonnage/27)+1\n",
    "    genome_navire = random.choices(range(nombre_max_navire), k=4)\n",
    "    for i in range(len(genome_navire)):\n",
    "        m = int(tonnage/navires[i].tonnage)+1\n",
    "        genome_navire[i] = random.choice(range(m))\n",
    "    \n",
    "\n",
    "    genome_quantity = distribuer_poids(tonnage, genome_navire)\n",
    "    \n",
    "    #choix de la route\n",
    "    without_fixed = np.delete(cities, [cities.index(depart),cities.index(arrivee)])\n",
    "    n = random.randint(0,len(cities)-2)\n",
    "    genome_road = [depart] + random.sample(without_fixed.tolist(), n) + [arrivee]\n",
    "    \n",
    "    return [genome_road, genome_navire, genome_quantity]\n",
    "    \n",
    "    \n",
    "def create_population(tonnage, depart, arrivee, cities, size=100):\n",
    "    population = []\n",
    "    for i in range(size):\n",
    "        population.append(create_member(tonnage, depart, arrivee, cities))\n",
    "    return population\n",
    "    \n",
    "    "
   ]
  },
  {
   "cell_type": "code",
   "execution_count": 38,
   "metadata": {},
   "outputs": [],
   "source": [
    "def get_road_cost(genome, the_map):\n",
    "    cost = 0\n",
    "    for i in range(len(genome[0])-1):\n",
    "        if the_map[genome[0][i]][genome[0][i+1]] == 0 :\n",
    "            return np.Inf\n",
    "        cost += sum(np.array(genome[1])*the_map[genome[0][i]][genome[0][i+1]]) #np.multiply(member[1], member[2])\n",
    "        \n",
    "    for i in range(4):\n",
    "        cost += genome[1][i]*navires[i].price\n",
    "        \n",
    "    return cost"
   ]
  },
  {
   "cell_type": "code",
   "execution_count": 39,
   "metadata": {},
   "outputs": [],
   "source": [
    "def eval_member(genome, the_map, tonnage, depart=0, arrivee=5):\n",
    "    if sum(genome[2])<tonnage:\n",
    "        return (np.Inf, np.Inf)\n",
    "    if genome[0][0] != depart or genome[0][-1] != arrivee:\n",
    "        return (np.Inf, np.Inf)\n",
    "    \n",
    "    nombre_navire = sum(genome[1])\n",
    "    cost_road = get_road_cost(genome, the_map)\n",
    "    \n",
    "    return (cost_road, nombre_navire)\n",
    "    "
   ]
  },
  {
   "cell_type": "code",
   "execution_count": 40,
   "metadata": {},
   "outputs": [],
   "source": [
    "def cross_road(a, b):\n",
    "    if len(a) == 2 or len(b) == 2:\n",
    "        return a, b\n",
    "    nombre_cut = random.randint(1, min(len(a),len(b))-2)\n",
    "    cut_a = random.randint(1, len(a)-nombre_cut-1)\n",
    "    cut_b = random.randint(1, len(b)-nombre_cut-1)\n",
    "    # print(a[cut_a:cut_a+nombre_cut])\n",
    "    # print(b[cut_b:cut_b+nombre_cut])\n",
    "    a[cut_a:cut_a+nombre_cut], b[cut_b:cut_b+nombre_cut] = b[cut_b:cut_b+nombre_cut], a[cut_a:cut_a+nombre_cut]\n",
    "    return a, b\n",
    "\n",
    "\n",
    "def cross_nav(a, b):\n",
    "    p = random.randint(0, 3)\n",
    "    return a[:p]+b[p:], b[:p]+a[p:]"
   ]
  },
  {
   "cell_type": "code",
   "execution_count": 41,
   "metadata": {},
   "outputs": [],
   "source": [
    "# def cross_road(a, b):\n",
    "#     p = random.randint(1, min(len(a),len(b))-1)\n",
    "#     return a[:p]+b[p:], b[:p]+a[p:]\n",
    "\n"
   ]
  },
  {
   "cell_type": "code",
   "execution_count": 42,
   "metadata": {},
   "outputs": [],
   "source": [
    "\n",
    "def mutation_func(individual, indpb = 0.1):\n",
    "    size = len(individual)\n",
    "    for i in range(1, size-1):\n",
    "        if random.random() < indpb:\n",
    "            swap_indx = random.randint(0, size - 3)\n",
    "            if swap_indx >= i:\n",
    "                swap_indx += 1\n",
    "            individual[i], individual[swap_indx] = individual[swap_indx], individual[i]\n",
    "\n",
    "    return individual\n",
    "\n",
    "\n",
    "#mutation_func(individual= [0,3,4,1,5], indpb=0.1)"
   ]
  },
  {
   "cell_type": "code",
   "execution_count": 43,
   "metadata": {},
   "outputs": [],
   "source": [
    "## Statistics and Logging\n",
    "\n",
    "def createStatsObjs():\n",
    "    # Method to create stats and logbook objects\n",
    "    \"\"\"\n",
    "    Inputs : None\n",
    "    Outputs : tuple of logbook and stats objects.\n",
    "    \"\"\"\n",
    "    stats = tools.Statistics(lambda ind: ind.fitness.values)\n",
    "    stats.register(\"avg\", np.mean, axis=0)\n",
    "    stats.register(\"std\", np.std, axis=0)\n",
    "    stats.register(\"min\", np.min, axis=0)\n",
    "    stats.register(\"max\", np.max, axis=0)\n",
    "\n",
    "    # Methods for logging\n",
    "    logbook = tools.Logbook()\n",
    "    logbook.header = \"Generation\", \"evals\", \"avg\", \"std\", \"min\", \"max\", \"best_one\", \"fitness_best_one\"\n",
    "    return logbook, stats\n",
    "\n",
    "\n",
    "def recordStat(invalid_ind, logbook, pop, stats, gen):\n",
    "    \"\"\"\n",
    "    Inputs : invalid_ind - Number of children for which fitness is calculated\n",
    "             logbook - Logbook object that logs data\n",
    "             pop - population\n",
    "             stats - stats object that compiles statistics\n",
    "    Outputs: None, prints the logs\n",
    "    \"\"\"\n",
    "    record = stats.compile(pop)\n",
    "    best_individual = tools.selBest(pop, 1)[0]\n",
    "    record[\"best_one\"] = best_individual\n",
    "    record[\"fitness_best_one\"] = best_individual.fitness\n",
    "    logbook.record(Generation=gen, evals=len(invalid_ind), **record)\n",
    "    print(logbook.stream)"
   ]
  },
  {
   "cell_type": "code",
   "execution_count": 44,
   "metadata": {},
   "outputs": [],
   "source": [
    "Map = [[1.945e+01, 1.237e+01, 1.000e+12, 5.480e+00, 3.379e+01, 1.000e+12,\n",
    "        6.200e-01, 2.326e+01, 4.282e+01, 1.000e+12],\n",
    "       [3.626e+01, 1.596e+01, 1.000e+12, 3.457e+01, 1.182e+01, 4.253e+01,\n",
    "        4.791e+01, 3.964e+01, 4.407e+01, 1.000e+12],\n",
    "       [3.266e+01, 3.992e+01, 1.888e+01, 4.530e+00, 1.111e+01, 3.311e+01,\n",
    "        1.823e+01, 1.262e+01, 1.834e+01, 1.000e+12],\n",
    "       [2.117e+01, 1.000e+12, 4.450e+00, 1.000e+12, 4.200e+00, 3.895e+01,\n",
    "        2.013e+01, 1.000e+12, 1.000e+12, 1.000e+12],\n",
    "       [2.701e+01, 2.880e+01, 4.887e+01, 1.000e+12, 3.076e+01, 1.000e+12,\n",
    "        1.000e+12, 1.000e+12, 1.000e+12, 4.898e+01],\n",
    "       [3.293e+01, 1.000e+12, 2.061e+01, 1.000e+12, 4.096e+01, 2.993e+01,\n",
    "        6.340e+00, 2.200e+00, 4.895e+01, 5.630e+00],\n",
    "       [1.000e+12, 1.000e+12, 4.730e+00, 1.000e+12, 1.325e+01, 1.000e+12,\n",
    "        2.329e+01, 3.871e+01, 4.238e+01, 1.000e+12],\n",
    "       [6.220e+00, 2.654e+01, 1.000e+12, 4.826e+01, 4.392e+01, 1.000e+12,\n",
    "        1.000e+12, 3.065e+01, 1.000e+12, 1.000e+12],\n",
    "       [4.035e+01, 4.583e+01, 3.667e+01, 5.090e+00, 4.308e+01, 1.000e+12,\n",
    "        2.461e+01, 1.000e+12, 3.288e+01, 5.580e+00],\n",
    "       [6.090e+00, 3.659e+01, 1.000e+12, 1.829e+01, 3.028e+01, 4.249e+01,\n",
    "        1.250e+01, 1.317e+01, 1.833e+01, 1.550e+00]]\n",
    "# Setting variables\n",
    "pop_size = 2000\n",
    "# Crossover probability\n",
    "cross_prob = 0.95\n",
    "# Mutation probability\n",
    "mut_prob = 0.8\n",
    "# Number of generations to run\n",
    "num_gen = 30\n",
    "#tonnage\n",
    "tonnage = 300"
   ]
  },
  {
   "cell_type": "code",
   "execution_count": 45,
   "metadata": {},
   "outputs": [],
   "source": [
    "class genotype:\n",
    "    def __init__(self,tonnage, depart, arrivee):\n",
    "        self.depart = depart\n",
    "        self.arrivee = arrivee\n",
    "        member = create_member(tonnage, depart, arrivee, cities)\n",
    "        self.road = member[0]\n",
    "        self.nombre_nav = member[1]\n",
    "        self.poids = member[2]\n",
    "    \n",
    "    \n",
    "    \n",
    "    \n",
    "    "
   ]
  },
  {
   "cell_type": "code",
   "execution_count": 46,
   "metadata": {},
   "outputs": [
    {
     "name": "stderr",
     "output_type": "stream",
     "text": [
      "C:\\Users\\Marouane\\anaconda3\\lib\\site-packages\\deap\\creator.py:138: RuntimeWarning: A class named 'FitnessMin' has already been created and it will be overwritten. Consider deleting previous creation of that class or rename it.\n",
      "  warnings.warn(\"A class named '{0}' has already been created and it \"\n",
      "C:\\Users\\Marouane\\anaconda3\\lib\\site-packages\\deap\\creator.py:138: RuntimeWarning: A class named 'Individual' has already been created and it will be overwritten. Consider deleting previous creation of that class or rename it.\n",
      "  warnings.warn(\"A class named '{0}' has already been created and it \"\n"
     ]
    }
   ],
   "source": [
    "creator.create('FitnessMin', base.Fitness, weights=(-1.0, -1.0))\n",
    "creator.create('Individual', list, fitness=creator.FitnessMin)"
   ]
  },
  {
   "cell_type": "code",
   "execution_count": 47,
   "metadata": {},
   "outputs": [],
   "source": [
    "# Registering toolbox\n",
    "toolbox = base.Toolbox()\n",
    "toolbox.register('indexes', create_member, tonnage=tonnage, depart=0, arrivee=5, cities=[0,1,2,3,4,5,6,7])"
   ]
  },
  {
   "cell_type": "code",
   "execution_count": 48,
   "metadata": {},
   "outputs": [],
   "source": [
    "# Creating individual and population from that each individual\n",
    "toolbox.register('individual', tools.initIterate, creator.Individual, toolbox.indexes)\n",
    "toolbox.register('population', tools.initRepeat, list, toolbox.individual)"
   ]
  },
  {
   "cell_type": "code",
   "execution_count": 49,
   "metadata": {},
   "outputs": [],
   "source": [
    "#fitness func\n",
    "toolbox.register('evaluate', eval_member, the_map = Map, tonnage = tonnage)"
   ]
  },
  {
   "cell_type": "code",
   "execution_count": 50,
   "metadata": {},
   "outputs": [],
   "source": [
    "# Selection method\n",
    "toolbox.register(\"select\", tools.selNSGA2)\n",
    "\n",
    "# Crossover method\n",
    "toolbox.register(\"mate\", cross_road)\n",
    "toolbox.register(\"mate_nav\", cross_nav)\n",
    "\n",
    "# Mutation method\n",
    "toolbox.register(\"mutate\", mutation_func, indpb = mut_prob)"
   ]
  },
  {
   "cell_type": "code",
   "execution_count": 51,
   "metadata": {},
   "outputs": [],
   "source": [
    "# Creating logbook and Stats object, We are going to use them to record data\n",
    "logbook, stats = createStatsObjs()"
   ]
  },
  {
   "cell_type": "code",
   "execution_count": 52,
   "metadata": {},
   "outputs": [
    {
     "name": "stdout",
     "output_type": "stream",
     "text": [
      "Generating population with size of 2000\n"
     ]
    }
   ],
   "source": [
    "print(f\"Generating population with size of {pop_size}\")\n",
    "pop = toolbox.population(n=pop_size)"
   ]
  },
  {
   "cell_type": "code",
   "execution_count": 64,
   "metadata": {},
   "outputs": [
    {
     "name": "stdout",
     "output_type": "stream",
     "text": [
      "{'fitness': deap.creator.FitnessMin((10169.22, 7.0))}\n"
     ]
    }
   ],
   "source": [
    "print(pop[0].__dict__)"
   ]
  },
  {
   "cell_type": "code",
   "execution_count": 53,
   "metadata": {},
   "outputs": [],
   "source": [
    "# Getting all invalid individuals who don't have fitness\n",
    "invalid_ind = [ind for ind in pop if not ind.fitness.valid]"
   ]
  },
  {
   "cell_type": "code",
   "execution_count": 54,
   "metadata": {},
   "outputs": [],
   "source": [
    "fitnesses = list(map(toolbox.evaluate, invalid_ind))\n",
    "# print(fitnesses)"
   ]
  },
  {
   "cell_type": "code",
   "execution_count": 55,
   "metadata": {},
   "outputs": [],
   "source": [
    "for ind, fit in zip(invalid_ind, fitnesses):\n",
    "    ind.fitness.values = fit"
   ]
  },
  {
   "cell_type": "code",
   "execution_count": 56,
   "metadata": {},
   "outputs": [],
   "source": [
    "# Assigning crowding distance using NSGA selection process, no selection is done here\n",
    "pop = toolbox.select(pop, len(pop))"
   ]
  },
  {
   "cell_type": "code",
   "execution_count": 57,
   "metadata": {},
   "outputs": [],
   "source": [
    "# print(pop)"
   ]
  },
  {
   "cell_type": "code",
   "execution_count": 58,
   "metadata": {},
   "outputs": [],
   "source": [
    "# for i in pop:\n",
    "#     print(f\"Crowd distance is {i.fitness.crowding_dist}\")"
   ]
  },
  {
   "cell_type": "code",
   "execution_count": 59,
   "metadata": {},
   "outputs": [
    {
     "name": "stdout",
     "output_type": "stream",
     "text": [
      "Recording the Data and Statistics\n",
      "Generation\tevals\tavg      \tstd      \tmin                        \tmax      \tbest_one                                  \tfitness_best_one\n",
      "0         \t2000 \t[inf inf]\t[nan nan]\t[1.071101e+04 6.000000e+00]\t[inf inf]\t[[0, 3, 5], [1, 0, 5, 1], [0, 0, 240, 60]]\t(10711.01, 7.0) \n"
     ]
    }
   ],
   "source": [
    "# Recording Logs and Stats\n",
    "print(\"Recording the Data and Statistics\")\n",
    "recordStat(invalid_ind, logbook, pop, stats,gen=0)"
   ]
  },
  {
   "cell_type": "code",
   "execution_count": 60,
   "metadata": {},
   "outputs": [
    {
     "name": "stdout",
     "output_type": "stream",
     "text": [
      "######## Currently Evaluating 0 Generation ######## \n",
      "1         \t1994 \t[1.69110e+13 1.38355e+01]\t[1.33822300e+13 3.52766775e+00]\t[1.060128e+04 6.000000e+00]\t[8.e+13 3.e+01]\t[[0, 3, 2, 5], [0, 2, 4, 1], [0, 64, 192, 44]]\t(10601.279999999999, 7.0)\n",
      "######## Currently Evaluating 1 Generation ######## \n",
      "2         \t1996 \t[1.21050e+13 1.21315e+01]\t[9.65515277e+12 3.45053731e+00]\t[1.020128e+04 6.000000e+00]\t[5.5e+13 3.0e+01]\t[[0, 3, 2, 5], [2, 0, 4, 1], [54, 0, 186, 60]]\t(10201.279999999999, 7.0)\n",
      "######## Currently Evaluating 2 Generation ######## \n",
      "3         \t1990 \t[9.14200002e+12 1.11315000e+01]\t[7.79889966e+12 3.77971001e+00]\t[1.020128e+04 6.000000e+00]\t[5.e+13 3.e+01]  \t[[0, 3, 2, 5], [2, 0, 4, 1], [54, 0, 186, 60]]\t(10201.279999999999, 7.0)\n",
      "######## Currently Evaluating 3 Generation ######## \n",
      "4         \t1996 \t[6.70650002e+12 1.05745000e+01]\t[5.54980700e+12 4.23679711e+00]\t[1.020128e+04 6.000000e+00]\t[3.2e+13 3.0e+01]\t[[0, 3, 2, 5], [2, 0, 4, 1], [54, 0, 186, 60]]\t(10201.279999999999, 7.0)\n",
      "######## Currently Evaluating 4 Generation ######## \n",
      "5         \t2000 \t[5.52000001e+12 9.74550000e+00]\t[4.44877511e+12 3.66984056e+00]\t[1.020128e+04 6.000000e+00]\t[2.4e+13 2.4e+01]\t[[0, 3, 2, 5], [2, 0, 4, 1], [54, 0, 186, 60]]\t(10201.279999999999, 7.0)\n",
      "######## Currently Evaluating 5 Generation ######## \n",
      "6         \t1996 \t[5.73300001e+12 8.39450000e+00]\t[4.02650108e+12 2.27505379e+00]\t[1.020128e+04 6.000000e+00]\t[2.4e+13 1.8e+01]\t[[0, 3, 2, 5], [2, 0, 4, 1], [54, 0, 186, 60]]\t(10201.279999999999, 7.0)\n",
      "######## Currently Evaluating 6 Generation ######## \n",
      "7         \t1996 \t[5.29450001e+12 7.71250000e+00]\t[3.37502144e+12 1.79606340e+00]\t[1.020128e+04 6.000000e+00]\t[1.8e+13 1.5e+01]\t[[0, 3, 2, 5], [2, 0, 4, 1], [54, 0, 186, 60]]\t(10201.279999999999, 7.0)\n",
      "######## Currently Evaluating 7 Generation ######## \n",
      "8         \t1990 \t[5.00650001e+12 7.61000000e+00]\t[3.21938779e+12 1.58678921e+00]\t[1.020128e+04 6.000000e+00]\t[1.2e+13 1.4e+01]\t[[0, 3, 2, 5], [2, 0, 4, 1], [54, 0, 186, 60]]\t(10201.279999999999, 7.0)\n",
      "######## Currently Evaluating 8 Generation ######## \n",
      "9         \t1992 \t[4.55100001e+12 7.68750000e+00]\t[3.40035277e+12 1.72506340e+00]\t[1.020128e+04 6.000000e+00]\t[1.2e+13 1.4e+01]\t[[0, 3, 2, 5], [2, 0, 4, 1], [54, 0, 186, 60]]\t(10201.279999999999, 7.0)\n",
      "######## Currently Evaluating 9 Generation ######## \n",
      "10        \t1998 \t[3.95150001e+12 7.77500000e+00]\t[3.53583763e+12 1.87919531e+00]\t[1.020128e+04 6.000000e+00]\t[1.2e+13 1.4e+01]\t[[0, 3, 2, 5], [2, 0, 4, 1], [54, 0, 186, 60]]\t(10201.279999999999, 7.0)\n",
      "######## Currently Evaluating 10 Generation ######## \n",
      "11        \t1998 \t[3.21450001e+12 7.83050000e+00]\t[3.32993840e+12 1.98815738e+00]\t[1.020128e+04 6.000000e+00]\t[1.2e+13 1.4e+01]\t[[0, 3, 2, 5], [2, 0, 4, 1], [54, 0, 186, 60]]\t(10201.279999999999, 7.0)\n",
      "######## Currently Evaluating 11 Generation ######## \n",
      "12        \t1998 \t[2.51250001e+12 7.84700000e+00]\t[3.10867234e+12 2.12710860e+00]\t[1.020128e+04 6.000000e+00]\t[1.2e+13 1.4e+01]\t[[0, 3, 2, 5], [2, 0, 4, 1], [54, 0, 186, 60]]\t(10201.279999999999, 7.0)\n",
      "######## Currently Evaluating 12 Generation ######## \n",
      "13        \t1998 \t[1.89300001e+12 7.85850000e+00]\t[2.78828818e+12 2.20532940e+00]\t[1.020128e+04 6.000000e+00]\t[6.00000001e+12 1.40000000e+01]\t[[0, 3, 2, 5], [2, 0, 4, 1], [54, 0, 186, 60]]\t(10201.279999999999, 7.0)\n",
      "######## Currently Evaluating 13 Generation ######## \n",
      "14        \t1994 \t[1.31700001e+12 7.90050000e+00]\t[2.48344740e+12 2.15118566e+00]\t[1.020128e+04 6.000000e+00]\t[6.00000001e+12 1.40000000e+01]\t[[0, 3, 2, 5], [2, 0, 4, 1], [54, 0, 186, 60]]\t(10201.279999999999, 7.0)\n",
      "######## Currently Evaluating 14 Generation ######## \n",
      "15        \t1998 \t[1.20000001e+12 7.53300000e+00]\t[2.40000000e+12 1.85712439e+00]\t[1.020128e+04 6.000000e+00]\t[6.00000001e+12 1.30000000e+01]\t[[0, 3, 2, 5], [2, 0, 4, 1], [54, 0, 186, 60]]\t(10201.279999999999, 7.0)\n",
      "######## Currently Evaluating 15 Generation ######## \n",
      "16        \t1998 \t[1.03800001e+12 7.21900000e+00]\t[2.26948364e+12 1.56270247e+00]\t[1.020128e+04 6.000000e+00]\t[6.00000001e+12 1.20000000e+01]\t[[0, 3, 2, 5], [2, 0, 4, 1], [54, 0, 186, 60]]\t(10201.279999999999, 7.0)\n",
      "######## Currently Evaluating 16 Generation ######## \n",
      "17        \t1998 \t[8.40000012e+11 6.99150000e+00]\t[2.08192219e+12 1.38073450e+00]\t[1.020128e+04 6.000000e+00]\t[6.00000001e+12 1.20000000e+01]\t[[0, 3, 2, 5], [2, 0, 4, 1], [54, 0, 186, 60]]\t(10201.279999999999, 7.0)\n",
      "######## Currently Evaluating 17 Generation ######## \n",
      "18        \t1998 \t[5.97000012e+11 6.81300000e+00]\t[1.79599304e+12 1.23492145e+00]\t[1.016922e+04 6.000000e+00]\t[6.00000001e+12 1.20000000e+01]\t[[0, 6, 2, 5], [2, 0, 4, 1], [54, 0, 186, 60]]\t(10169.22, 7.0)          \n",
      "######## Currently Evaluating 18 Generation ######## \n",
      "19        \t1998 \t[3.45000011e+11 6.60550000e+00]\t[1.39677307e+12 1.05112785e+00]\t[1.016922e+04 6.000000e+00]\t[6.00000001e+12 1.10000000e+01]\t[[0, 6, 2, 5], [2, 0, 4, 1], [54, 0, 186, 60]]\t(10169.22, 7.0)          \n",
      "######## Currently Evaluating 19 Generation ######## \n",
      "20        \t1994 \t[2.04000011e+11 6.39600000e+00]\t[1.08737482e+12 8.33177052e-01]\t[1.016922e+04 6.000000e+00]\t[6.00000001e+12 1.00000000e+01]\t[[0, 6, 2, 5], [2, 0, 4, 1], [54, 0, 186, 60]]\t(10169.22, 7.0)          \n",
      "######## Currently Evaluating 20 Generation ######## \n",
      "21        \t1992 \t[1.12428068e+04 6.25150000e+00]\t[347.50996546   0.68647487]    \t[1.016922e+04 6.000000e+00]\t[1.184606e+04 1.000000e+01]    \t[[0, 6, 2, 5], [2, 0, 4, 1], [54, 0, 186, 60]]\t(10169.22, 7.0)          \n",
      "######## Currently Evaluating 21 Generation ######## \n",
      "22        \t1994 \t[1.11711975e+04 6.16100000e+00]\t[310.5466057    0.55052611]    \t[1.016922e+04 6.000000e+00]\t[1.163702e+04 1.000000e+01]    \t[[0, 6, 2, 5], [2, 0, 4, 1], [54, 0, 186, 60]]\t(10169.22, 7.0)          \n",
      "######## Currently Evaluating 22 Generation ######## \n",
      "23        \t1992 \t[1.11043211e+04 6.13200000e+00]\t[285.99728012   0.49454626]    \t[1.016922e+04 6.000000e+00]\t[1.152092e+04 9.000000e+00]    \t[[0, 6, 2, 5], [2, 0, 4, 1], [54, 0, 186, 60]]\t(10169.22, 7.0)          \n",
      "######## Currently Evaluating 23 Generation ######## \n",
      "24        \t2000 \t[1.10535539e+04 6.10150000e+00]\t[267.81328925   0.42918265]    \t[1.016922e+04 6.000000e+00]\t[1.14467e+04 9.00000e+00]      \t[[0, 6, 2, 5], [2, 0, 4, 1], [54, 0, 186, 60]]\t(10169.22, 7.0)          \n",
      "######## Currently Evaluating 24 Generation ######## \n",
      "25        \t1994 \t[1.10079209e+04 6.08450000e+00]\t[258.98830178   0.38776249]    \t[1.016922e+04 6.000000e+00]\t[1.133204e+04 9.000000e+00]    \t[[0, 6, 2, 5], [2, 0, 4, 1], [54, 0, 186, 60]]\t(10169.22, 7.0)          \n",
      "######## Currently Evaluating 25 Generation ######## \n",
      "26        \t1988 \t[1.09689053e+04 6.07500000e+00]\t[254.148513     0.35689634]    \t[1.016922e+04 6.000000e+00]\t[1.12628e+04 9.00000e+00]      \t[[0, 6, 2, 5], [2, 0, 4, 1], [54, 0, 186, 60]]\t(10169.22, 7.0)          \n",
      "######## Currently Evaluating 26 Generation ######## \n",
      "27        \t1998 \t[1.09354553e+04 6.07600000e+00]\t[251.97815369   0.35528017]    \t[1.016922e+04 6.000000e+00]\t[1.122648e+04 9.000000e+00]    \t[[0, 6, 2, 5], [2, 0, 4, 1], [54, 0, 186, 60]]\t(10169.22, 7.0)          \n",
      "######## Currently Evaluating 27 Generation ######## \n",
      "28        \t2000 \t[1.08973678e+04 6.07650000e+00]\t[249.56292555   0.35305488]    \t[1.016922e+04 6.000000e+00]\t[1.1207e+04 9.0000e+00]        \t[[0, 6, 2, 5], [2, 0, 4, 1], [54, 0, 186, 60]]\t(10169.22, 7.0)          \n",
      "######## Currently Evaluating 28 Generation ######## \n",
      "29        \t1994 \t[1.08636941e+04 6.05300000e+00]\t[247.10213783   0.26304182]    \t[1.016922e+04 6.000000e+00]\t[1.114432e+04 8.000000e+00]    \t[[0, 6, 2, 5], [2, 0, 4, 1], [54, 0, 186, 60]]\t(10169.22, 7.0)          \n",
      "######## Currently Evaluating 29 Generation ######## \n",
      "30        \t1990 \t[1.08339688e+04 6.05400000e+00]\t[246.95232382   0.26473383]    \t[1.016922e+04 6.000000e+00]\t[1.112118e+04 8.000000e+00]    \t[[0, 6, 2, 5], [2, 0, 4, 1], [54, 0, 186, 60]]\t(10169.22, 7.0)          \n"
     ]
    }
   ],
   "source": [
    "# Starting the generation process\n",
    "for gen in range(num_gen):\n",
    "    print(f\"######## Currently Evaluating {gen} Generation ######## \")\n",
    "    \n",
    "    # Selecting individuals\n",
    "    # Selecting offsprings from the population, about 1/2 of them\n",
    "    offspring = tools.selTournamentDCD(pop, len(pop))\n",
    "    offspring = [toolbox.clone(ind) for ind in offspring]\n",
    "    # print(offspring)\n",
    "    # print(\"####################\")\n",
    "    # print(f\"Offsprings are {offspring}\")\n",
    "    \n",
    "    # Performing , crossover and mutation operations according to their probabilities\n",
    "    for ind1, ind2 in zip(offspring[::2], offspring[1::2]):\n",
    "        etat = False\n",
    "        # Mating will happen 80% of time if cross_prob is 0.8\n",
    "        if random.random() <= cross_prob:\n",
    "            # print(\"Mating happened\")\n",
    "            toolbox.mate(ind1[0], ind2[0])\n",
    "            etat = True\n",
    "        if random.random() <= cross_prob:\n",
    "            # print(\"Mating happened\")\n",
    "            toolbox.mate_nav(ind1[1], ind2[1])\n",
    "            etat = True\n",
    "\n",
    "            # If cross over happened to the individuals then we are deleting those individual\n",
    "            #   fitness values, This operations are being done on the offspring population.\n",
    "        if etat:\n",
    "            del ind1.fitness.values, ind2.fitness.values\n",
    "        \n",
    "        toolbox.mutate(ind1[0])\n",
    "        toolbox.mutate(ind1[1])\n",
    "        ind1[2] = distribuer_poids(commande = tonnage, list_navire = ind1[1])\n",
    "        \n",
    "        toolbox.mutate(ind2[0])\n",
    "        toolbox.mutate(ind2[1])\n",
    "        ind2[2] = distribuer_poids(commande = tonnage, list_navire = ind2[1])\n",
    "        \n",
    "    # Calculating fitness for all the invalid individuals in offspring\n",
    "    invalid_ind = [ind for ind in offspring if not ind.fitness.valid]\n",
    "    fitnesses = toolbox.map(toolbox.evaluate, invalid_ind)\n",
    "    for ind, fit in zip(invalid_ind, fitnesses):\n",
    "        ind.fitness.values = fit\n",
    "        \n",
    "    # We are using NSGA2 selection method, We have to select same population size\n",
    "    pop = toolbox.select(pop + offspring, pop_size)\n",
    "\n",
    "\n",
    "    # Recording stats in this generation\n",
    "    recordStat(invalid_ind, logbook, pop, stats,gen+1)\n",
    "    "
   ]
  },
  {
   "cell_type": "code",
   "execution_count": 61,
   "metadata": {},
   "outputs": [
    {
     "name": "stdout",
     "output_type": "stream",
     "text": [
      "#################### End of Generations #################### \n",
      "Best individual is [[0, 6, 2, 5], [2, 0, 4, 1], [54, 0, 186, 60]]\n",
      "Number of vechicles required are 7.0\n",
      "Cost required for the transportation is 10169.22\n"
     ]
    }
   ],
   "source": [
    "print(f\"{20*'#'} End of Generations {20*'#'} \")\n",
    "\n",
    "best_individual = tools.selBest(pop, 1)[0]\n",
    "\n",
    "# Printing the best after all generations\n",
    "print(f\"Best individual is {best_individual}\")\n",
    "print(f\"Number of vechicles required are {best_individual.fitness.values[1]}\")\n",
    "print(f\"Cost required for the transportation is {best_individual.fitness.values[0]}\")"
   ]
  },
  {
   "cell_type": "code",
   "execution_count": 62,
   "metadata": {},
   "outputs": [
    {
     "data": {
      "text/plain": [
       "[<matplotlib.lines.Line2D at 0x19437d93610>]"
      ]
     },
     "execution_count": 62,
     "metadata": {},
     "output_type": "execute_result"
    },
    {
     "data": {
      "image/png": "[encoded data removed]",
      "text/plain": [
       "<Figure size 640x480 with 1 Axes>"
      ]
     },
     "metadata": {
      "needs_background": "light"
     },
     "output_type": "display_data"
    }
   ],
   "source": [
    "from matplotlib.pyplot import figure\n",
    "\n",
    "figure(figsize=(8, 6), dpi=80)\n",
    "X = [logbook[i]['Generation'] for i in range(len(logbook))]\n",
    "Y_road = [logbook[i]['min'][0] for i in range(len(logbook))]\n",
    "Y_nav = [logbook[i]['min'][1] for i in range(len(logbook))]\n",
    "plt.plot(X, Y_road)"
   ]
  }
 ],
 "metadata": {
  "kernelspec": {
   "display_name": "Python 3",
   "language": "python",
   "name": "python3"
  },
  "language_info": {
   "codemirror_mode": {
    "name": "ipython",
    "version": 3
   },
   "file_extension": ".py",
   "mimetype": "text/x-python",
   "name": "python",
   "nbconvert_exporter": "python",
   "pygments_lexer": "ipython3",
   "version": "3.8.8"
  }
 },
 "nbformat": 4,
 "nbformat_minor": 4
}
